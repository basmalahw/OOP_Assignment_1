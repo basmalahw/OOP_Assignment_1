{
 "cells": [
  {
   "cell_type": "markdown",
   "metadata": {},
   "source": [
    "# OOP 1st Assignment\n",
    "## Create a Python program that includes the following:\n",
    "\n",
    "1. A base class `Vehicle` with attributes `make`, `model`, and `year`. Include a method `vehicle_info()` that prints these details.\n",
    "2. A derived class `Car` that inherits from `Vehicle` and includes an additional attribute `fuel_type` and a method `car_info()` to print the fuel type.\n",
    "3. Another derived class `Motorcycle` that inherits from `Vehicle` and includes an additional attribute `engine_capacity` and a method `motorcycle_info()` to print the engine capacity.\n",
    "4. Create objects for both the `Car` and `Motorcycle` classes, initialize them with appropriate values, and call all their methods to display the details.\n"
   ]
  },
  {
   "cell_type": "code",
   "execution_count": 5,
   "metadata": {},
   "outputs": [
    {
     "name": "stdout",
     "output_type": "stream",
     "text": [
      "diesel\n",
      "corola\n",
      "petrol\n",
      "2021\n"
     ]
    }
   ],
   "source": [
    "class Vehicle:\n",
    "    def vehicle_info(self, make,model,year):\n",
    "        self.make=make\n",
    "        self.model=model\n",
    "        self.year=year\n",
    "class Car(Vehicle):\n",
    "    def car_info(self,fuel_type):\n",
    "        self.fuel_type=fuel_type\n",
    "class Motorcycle(Vehicle):\n",
    "    def motorcycle_info(self,engine_capacity):\n",
    "        self.engine_capacity=engine_capacity\n",
    "obj1=Car()\n",
    "obj1.vehicle_info('Toyota','corola','2020')\n",
    "obj1.car_info('diesel')\n",
    "obj2=Motorcycle()\n",
    "obj2.vehicle_info('KTM','MT-07','2021')\n",
    "obj2.motorcycle_info('petrol')\n",
    "\n",
    "print(obj1.fuel_type)\n",
    "print(obj1.model)\n",
    "print(obj2.engine_capacity)\n",
    "print(obj2.year)\n"
   ]
  },
  {
   "cell_type": "code",
   "execution_count": 8,
   "metadata": {},
   "outputs": [
    {
     "ename": "TypeError",
     "evalue": "object.__init__() takes exactly one argument (the instance to initialize)",
     "output_type": "error",
     "traceback": [
      "\u001b[1;31m---------------------------------------------------------------------------\u001b[0m",
      "\u001b[1;31mTypeError\u001b[0m                                 Traceback (most recent call last)",
      "Cell \u001b[1;32mIn[8], line 16\u001b[0m\n\u001b[0;32m     13\u001b[0m         \u001b[38;5;28msuper\u001b[39m()\u001b[38;5;241m.\u001b[39m\u001b[38;5;21m__init__\u001b[39m(make,model,year)\n\u001b[0;32m     14\u001b[0m         \u001b[38;5;28mself\u001b[39m\u001b[38;5;241m.\u001b[39mengine_capacity\u001b[38;5;241m=\u001b[39mengine_capacity\n\u001b[1;32m---> 16\u001b[0m obj1\u001b[38;5;241m=\u001b[39mCar(\u001b[38;5;124m'\u001b[39m\u001b[38;5;124mToyota\u001b[39m\u001b[38;5;124m'\u001b[39m,\u001b[38;5;124m'\u001b[39m\u001b[38;5;124mcorola\u001b[39m\u001b[38;5;124m'\u001b[39m,\u001b[38;5;124m'\u001b[39m\u001b[38;5;124m2020\u001b[39m\u001b[38;5;124m'\u001b[39m,\u001b[38;5;124m'\u001b[39m\u001b[38;5;124mdiesel\u001b[39m\u001b[38;5;124m'\u001b[39m)\n\u001b[0;32m     17\u001b[0m obj2\u001b[38;5;241m=\u001b[39mMotorcycle(\u001b[38;5;124m'\u001b[39m\u001b[38;5;124mKTM\u001b[39m\u001b[38;5;124m'\u001b[39m,\u001b[38;5;124m'\u001b[39m\u001b[38;5;124mMT-07\u001b[39m\u001b[38;5;124m'\u001b[39m,\u001b[38;5;124m'\u001b[39m\u001b[38;5;124m2021\u001b[39m\u001b[38;5;124m'\u001b[39m,\u001b[38;5;124m'\u001b[39m\u001b[38;5;124mpetrol\u001b[39m\u001b[38;5;124m'\u001b[39m)\n\u001b[0;32m     19\u001b[0m \u001b[38;5;28mprint\u001b[39m(obj1\u001b[38;5;241m.\u001b[39mfuel_type)\n",
      "Cell \u001b[1;32mIn[8], line 9\u001b[0m, in \u001b[0;36mCar.__init__\u001b[1;34m(self, make, model, year, fuel_type)\u001b[0m\n\u001b[0;32m      8\u001b[0m \u001b[38;5;28;01mdef\u001b[39;00m \u001b[38;5;21m__init__\u001b[39m(\u001b[38;5;28mself\u001b[39m,make,model,year,fuel_type):\n\u001b[1;32m----> 9\u001b[0m     \u001b[38;5;28msuper\u001b[39m()\u001b[38;5;241m.\u001b[39m\u001b[38;5;21m__init__\u001b[39m(make,model,year)\n\u001b[0;32m     10\u001b[0m     \u001b[38;5;28mself\u001b[39m\u001b[38;5;241m.\u001b[39mfuel_type\u001b[38;5;241m=\u001b[39mfuel_type\n",
      "\u001b[1;31mTypeError\u001b[0m: object.__init__() takes exactly one argument (the instance to initialize)"
     ]
    }
   ],
   "source": [
    "## Alternative way\n",
    "class Vehicle:\n",
    "    def vehicle_info(self, make,model,year):\n",
    "        self.make=make\n",
    "        self.model=model\n",
    "        self.year=year\n",
    "class Car(Vehicle):\n",
    "    def __init__(self,make,model,year,fuel_type):\n",
    "        super().__init__(make,model,year)\n",
    "        self.fuel_type=fuel_type\n",
    "class Motorcycle(Vehicle):\n",
    "    def __init__(self,make,model,year,engine_capacity):\n",
    "        super().__init__(make,model,year)\n",
    "        self.engine_capacity=engine_capacity\n",
    "\n",
    "obj1=Car('Toyota','corola','2020','diesel')\n",
    "obj2=Motorcycle('KTM','MT-07','2021','petrol')\n",
    "\n",
    "print(obj1.fuel_type)\n",
    "print(obj1.model)\n",
    "print(obj2.engine_capacity)\n",
    "print(obj2.year)"
   ]
  }
 ],
 "metadata": {
  "kernelspec": {
   "display_name": "Python 3 (ipykernel)",
   "language": "python",
   "name": "python3"
  },
  "language_info": {
   "codemirror_mode": {
    "name": "ipython",
    "version": 3
   },
   "file_extension": ".py",
   "mimetype": "text/x-python",
   "name": "python",
   "nbconvert_exporter": "python",
   "pygments_lexer": "ipython3",
   "version": "3.12.7"
  }
 },
 "nbformat": 4,
 "nbformat_minor": 4
}
